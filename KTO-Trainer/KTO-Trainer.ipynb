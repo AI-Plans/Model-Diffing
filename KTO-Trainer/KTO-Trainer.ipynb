{
 "cells": [
  {
   "cell_type": "code",
   "execution_count": null,
   "metadata": {
    "execution": {
     "execution_failed": "2025-10-17T09:20:01.751Z"
    },
    "trusted": true
   },
   "outputs": [],
   "source": [
    "pip install -q trl"
   ]
  },
  {
   "cell_type": "code",
   "execution_count": null,
   "metadata": {
    "_cell_guid": "b1076dfc-b9ad-4769-8c92-a6c4dae69d19",
    "_uuid": "8f2839f25d086af736a60e9eeb907d3b93b6e0e5",
    "execution": {
     "execution_failed": "2025-10-17T09:20:01.752Z"
    },
    "trusted": true
   },
   "outputs": [],
   "source": [
    "\n",
    "# train_kto.py\n",
    "from datasets import load_dataset\n",
    "from trl import KTOConfig, KTOTrainer\n",
    "from transformers import AutoModelForCausalLM, AutoTokenizer\n",
    "\n",
    "model_name=\"Qwen/Qwen3-0.6B\"\n",
    "model = AutoModelForCausalLM.from_pretrained(model_name)\n",
    "tokenizer = AutoTokenizer.from_pretrained(\"Qwen/Qwen3-0.6B\")\n"
   ]
  },
  {
   "cell_type": "code",
   "execution_count": null,
   "metadata": {
    "execution": {
     "execution_failed": "2025-10-17T09:20:01.752Z"
    },
    "trusted": true
   },
   "outputs": [],
   "source": [
    "train_dataset = load_dataset(\"trl-lib/hh-rlhf-helpful-base\", split=\"train\")\n",
    "test_dataset = load_dataset(\"trl-lib/hh-rlhf-helpful-base\", split=\"test\")"
   ]
  },
  {
   "cell_type": "code",
   "execution_count": null,
   "metadata": {
    "execution": {
     "execution_failed": "2025-10-17T09:20:01.753Z"
    },
    "trusted": true
   },
   "outputs": [],
   "source": [
    "training_args = KTOConfig(output_dir=\"Qwen3-0.6B-KTO\")\n",
    "trainer = KTOTrainer(model=model, args=training_args, processing_class=tokenizer, train_dataset=train_dataset,eval_dataset=test_dataset)"
   ]
  },
  {
   "cell_type": "code",
   "execution_count": null,
   "metadata": {
    "execution": {
     "execution_failed": "2025-10-17T09:20:01.753Z"
    },
    "trusted": true
   },
   "outputs": [],
   "source": [
    "trainer.train()"
   ]
  },
  {
   "cell_type": "code",
   "execution_count": null,
   "metadata": {
    "trusted": true
   },
   "outputs": [],
   "source": [
    "trainer.save_model(\"Qwen3-0.6B-KTO\")\n",
    "tokenizer.save_pretrained(\"Qwen3-0.6B-KTO\")\n"
   ]
  }
 ],
 "metadata": {
  "kaggle": {
   "accelerator": "nvidiaTeslaT4",
   "dataSources": [],
   "dockerImageVersionId": 31154,
   "isGpuEnabled": true,
   "isInternetEnabled": true,
   "language": "python",
   "sourceType": "notebook"
  },
  "kernelspec": {
   "display_name": "Python 3",
   "language": "python",
   "name": "python3"
  },
  "language_info": {
   "codemirror_mode": {
    "name": "ipython",
    "version": 3
   },
   "file_extension": ".py",
   "mimetype": "text/x-python",
   "name": "python",
   "nbconvert_exporter": "python",
   "pygments_lexer": "ipython3",
   "version": "3.11.13"
  }
 },
 "nbformat": 4,
 "nbformat_minor": 4
}
